{
 "cells": [
  {
   "cell_type": "code",
   "execution_count": 1,
   "id": "1c22caa3",
   "metadata": {},
   "outputs": [
    {
     "data": {
      "text/plain": [
       "'C:\\\\Users\\\\Stefan Hoeller\\\\Documents\\\\BSE\\\\Computing DS\\\\HW6\\\\HW6_Latinos'"
      ]
     },
     "execution_count": 1,
     "metadata": {},
     "output_type": "execute_result"
    }
   ],
   "source": [
    "#Import additional packages not covered by library\n",
    "import os\n",
    "os.getcwd()"
   ]
  },
  {
   "cell_type": "code",
   "execution_count": 3,
   "id": "367da2a7",
   "metadata": {},
   "outputs": [],
   "source": [
    "#import library hw6\n",
    "import hw6_Library.data_analysis as da"
   ]
  },
  {
   "cell_type": "code",
   "execution_count": 4,
   "id": "8bc33752",
   "metadata": {},
   "outputs": [],
   "source": [
    "from hw6_Library.data_analysis import Read_split_data"
   ]
  },
  {
   "cell_type": "code",
   "execution_count": 5,
   "id": "c5d04fd9",
   "metadata": {},
   "outputs": [],
   "source": [
    "#Import the data set and split into test and training set\n",
    "train, test = Read_split_data(\"https://raw.githubusercontent.com/msh011/HW6_Latinos/main/sample_diabetes_mellitus_data.csv\").read_split(.3)"
   ]
  },
  {
   "cell_type": "code",
   "execution_count": 6,
   "id": "cec44c84",
   "metadata": {},
   "outputs": [
    {
     "name": "stdout",
     "output_type": "stream",
     "text": [
      "<class 'pandas.core.frame.DataFrame'>\n",
      "Int64Index: 7000 entries, 9069 to 7270\n",
      "Data columns (total 53 columns):\n",
      " #   Column                       Non-Null Count  Dtype  \n",
      "---  ------                       --------------  -----  \n",
      " 0   Unnamed: 0                   7000 non-null   int64  \n",
      " 1   encounter_id                 7000 non-null   int64  \n",
      " 2   hospital_id                  7000 non-null   int64  \n",
      " 3   age                          6711 non-null   float64\n",
      " 4   bmi                          5794 non-null   float64\n",
      " 5   elective_surgery             7000 non-null   int64  \n",
      " 6   ethnicity                    6826 non-null   object \n",
      " 7   gender                       6998 non-null   object \n",
      " 8   height                       6887 non-null   float64\n",
      " 9   hospital_admit_source        6364 non-null   object \n",
      " 10  icu_admit_source             6986 non-null   object \n",
      " 11  icu_id                       7000 non-null   int64  \n",
      " 12  icu_stay_type                7000 non-null   object \n",
      " 13  icu_type                     7000 non-null   object \n",
      " 14  pre_icu_los_days             7000 non-null   float64\n",
      " 15  readmission_status           7000 non-null   int64  \n",
      " 16  weight                       5850 non-null   float64\n",
      " 17  albumin_apache               2484 non-null   float64\n",
      " 18  apache_2_diagnosis           6874 non-null   float64\n",
      " 19  apache_3j_diagnosis          6965 non-null   float64\n",
      " 20  apache_post_operative        7000 non-null   int64  \n",
      " 21  arf_apache                   7000 non-null   int64  \n",
      " 22  bilirubin_apache             2389 non-null   float64\n",
      " 23  bun_apache                   5251 non-null   float64\n",
      " 24  creatinine_apache            5353 non-null   float64\n",
      " 25  fio2_apache                  2047 non-null   float64\n",
      " 26  gcs_eyes_apache              6954 non-null   float64\n",
      " 27  gcs_motor_apache             6954 non-null   float64\n",
      " 28  gcs_unable_apache            6957 non-null   float64\n",
      " 29  gcs_verbal_apache            6954 non-null   float64\n",
      " 30  glucose_apache               6249 non-null   float64\n",
      " 31  heart_rate_apache            7000 non-null   float64\n",
      " 32  hematocrit_apache            5610 non-null   float64\n",
      " 33  intubated_apache             7000 non-null   int64  \n",
      " 34  map_apache                   6990 non-null   float64\n",
      " 35  paco2_apache                 2047 non-null   float64\n",
      " 36  paco2_for_ph_apache          2047 non-null   float64\n",
      " 37  pao2_apache                  2047 non-null   float64\n",
      " 38  ph_apache                    2047 non-null   float64\n",
      " 39  resprate_apache              6972 non-null   float64\n",
      " 40  sodium_apache                5295 non-null   float64\n",
      " 41  temp_apache                  6933 non-null   float64\n",
      " 42  urineoutput_apache           1059 non-null   float64\n",
      " 43  ventilated_apache            7000 non-null   int64  \n",
      " 44  wbc_apache                   5460 non-null   float64\n",
      " 45  aids                         7000 non-null   int64  \n",
      " 46  cirrhosis                    7000 non-null   int64  \n",
      " 47  hepatic_failure              7000 non-null   int64  \n",
      " 48  immunosuppression            7000 non-null   int64  \n",
      " 49  leukemia                     7000 non-null   int64  \n",
      " 50  lymphoma                     7000 non-null   int64  \n",
      " 51  solid_tumor_with_metastasis  7000 non-null   int64  \n",
      " 52  diabetes_mellitus            7000 non-null   int64  \n",
      "dtypes: float64(29), int64(18), object(6)\n",
      "memory usage: 2.9+ MB\n"
     ]
    }
   ],
   "source": [
    "train.info()"
   ]
  },
  {
   "cell_type": "code",
   "execution_count": 7,
   "id": "28145646",
   "metadata": {},
   "outputs": [],
   "source": [
    "#Remove rows with Nan\n",
    "train=da.Remove_na(train).remove_nan(['age','gender','ethnicity'])\n",
    "test=da.Remove_na(test).remove_nan(['age','gender','ethnicity'])"
   ]
  },
  {
   "cell_type": "code",
   "execution_count": 8,
   "id": "7cd2ee7b",
   "metadata": {},
   "outputs": [],
   "source": [
    "#Fill NAs in other columns\n",
    "train=da.Fill_na(train).fill(['height','weight'])\n",
    "test=da.Fill_na(test).fill(['height','weight'])"
   ]
  },
  {
   "cell_type": "code",
   "execution_count": 9,
   "id": "49a2e740",
   "metadata": {},
   "outputs": [
    {
     "name": "stdout",
     "output_type": "stream",
     "text": [
      "<class 'pandas.core.frame.DataFrame'>\n",
      "Int64Index: 6547 entries, 9069 to 7270\n",
      "Data columns (total 53 columns):\n",
      " #   Column                       Non-Null Count  Dtype  \n",
      "---  ------                       --------------  -----  \n",
      " 0   Unnamed: 0                   6547 non-null   int64  \n",
      " 1   encounter_id                 6547 non-null   int64  \n",
      " 2   hospital_id                  6547 non-null   int64  \n",
      " 3   age                          6547 non-null   float64\n",
      " 4   bmi                          5426 non-null   float64\n",
      " 5   elective_surgery             6547 non-null   int64  \n",
      " 6   ethnicity                    6547 non-null   object \n",
      " 7   gender                       6547 non-null   object \n",
      " 8   height                       6547 non-null   float64\n",
      " 9   hospital_admit_source        5955 non-null   object \n",
      " 10  icu_admit_source             6533 non-null   object \n",
      " 11  icu_id                       6547 non-null   int64  \n",
      " 12  icu_stay_type                6547 non-null   object \n",
      " 13  icu_type                     6547 non-null   object \n",
      " 14  pre_icu_los_days             6547 non-null   float64\n",
      " 15  readmission_status           6547 non-null   int64  \n",
      " 16  weight                       6547 non-null   float64\n",
      " 17  albumin_apache               2322 non-null   float64\n",
      " 18  apache_2_diagnosis           6423 non-null   float64\n",
      " 19  apache_3j_diagnosis          6513 non-null   float64\n",
      " 20  apache_post_operative        6547 non-null   int64  \n",
      " 21  arf_apache                   6547 non-null   int64  \n",
      " 22  bilirubin_apache             2233 non-null   float64\n",
      " 23  bun_apache                   4900 non-null   float64\n",
      " 24  creatinine_apache            4997 non-null   float64\n",
      " 25  fio2_apache                  1959 non-null   float64\n",
      " 26  gcs_eyes_apache              6504 non-null   float64\n",
      " 27  gcs_motor_apache             6504 non-null   float64\n",
      " 28  gcs_unable_apache            6507 non-null   float64\n",
      " 29  gcs_verbal_apache            6504 non-null   float64\n",
      " 30  glucose_apache               5850 non-null   float64\n",
      " 31  heart_rate_apache            6547 non-null   float64\n",
      " 32  hematocrit_apache            5243 non-null   float64\n",
      " 33  intubated_apache             6547 non-null   int64  \n",
      " 34  map_apache                   6538 non-null   float64\n",
      " 35  paco2_apache                 1959 non-null   float64\n",
      " 36  paco2_for_ph_apache          1959 non-null   float64\n",
      " 37  pao2_apache                  1959 non-null   float64\n",
      " 38  ph_apache                    1959 non-null   float64\n",
      " 39  resprate_apache              6523 non-null   float64\n",
      " 40  sodium_apache                4942 non-null   float64\n",
      " 41  temp_apache                  6491 non-null   float64\n",
      " 42  urineoutput_apache           954 non-null    float64\n",
      " 43  ventilated_apache            6547 non-null   int64  \n",
      " 44  wbc_apache                   5107 non-null   float64\n",
      " 45  aids                         6547 non-null   int64  \n",
      " 46  cirrhosis                    6547 non-null   int64  \n",
      " 47  hepatic_failure              6547 non-null   int64  \n",
      " 48  immunosuppression            6547 non-null   int64  \n",
      " 49  leukemia                     6547 non-null   int64  \n",
      " 50  lymphoma                     6547 non-null   int64  \n",
      " 51  solid_tumor_with_metastasis  6547 non-null   int64  \n",
      " 52  diabetes_mellitus            6547 non-null   int64  \n",
      "dtypes: float64(29), int64(18), object(6)\n",
      "memory usage: 2.7+ MB\n"
     ]
    }
   ],
   "source": [
    "train.info()"
   ]
  },
  {
   "cell_type": "code",
   "execution_count": 10,
   "id": "d60f0f21",
   "metadata": {},
   "outputs": [],
   "source": [
    "#Create features - Polynomials ######################Change creating parent class\n",
    "train=da.Polys(train).create_feature(['age','height'],3)\n",
    "test=da.Polys(test).create_feature(['age','height'],3)"
   ]
  },
  {
   "cell_type": "code",
   "execution_count": 11,
   "id": "2ee1eb13",
   "metadata": {},
   "outputs": [],
   "source": [
    "#Create features interactions\n",
    "train=da.Interactions(train).create_feature(['age','height'])\n",
    "test=da.Interactions(test).create_feature(['age','height'])"
   ]
  },
  {
   "cell_type": "code",
   "execution_count": 12,
   "id": "adefb926",
   "metadata": {},
   "outputs": [],
   "source": [
    "#Build Model\n",
    "from hw6_Library.data_analysis import Model\n",
    "mod1=Model([\"age\", \"height\", \"weight\", \"aids\", \"cirrhosis\", \"hepatic_failure\",\n",
    "\"immunosuppression\", \"leukemia\", \"lymphoma\", \"solid_tumor_with_metastasis\",\"age_2\",\"height_2\",\"age_height\"],\"diabetes_mellitus\",100)\n",
    "mod1.train(train)\n",
    "prob=mod1.predict(test)"
   ]
  },
  {
   "cell_type": "code",
   "execution_count": 13,
   "id": "180939f3",
   "metadata": {},
   "outputs": [
    {
     "name": "stdout",
     "output_type": "stream",
     "text": [
      "[[0.66102623 0.33897377]\n",
      " [0.7714975  0.2285025 ]\n",
      " [0.83750949 0.16249051]\n",
      " ...\n",
      " [0.69750113 0.30249887]\n",
      " [0.80144916 0.19855084]\n",
      " [0.53965266 0.46034734]]\n"
     ]
    }
   ],
   "source": [
    "print(prob)"
   ]
  },
  {
   "cell_type": "code",
   "execution_count": 14,
   "id": "fb0acf4e",
   "metadata": {},
   "outputs": [],
   "source": [
    "test['prob1']=prob[:,1]"
   ]
  },
  {
   "cell_type": "code",
   "execution_count": 15,
   "id": "9fdd734e",
   "metadata": {},
   "outputs": [
    {
     "name": "stdout",
     "output_type": "stream",
     "text": [
      "<class 'pandas.core.frame.DataFrame'>\n",
      "Int64Index: 2821 entries, 6252 to 4705\n",
      "Data columns (total 60 columns):\n",
      " #   Column                       Non-Null Count  Dtype  \n",
      "---  ------                       --------------  -----  \n",
      " 0   Unnamed: 0                   2821 non-null   int64  \n",
      " 1   encounter_id                 2821 non-null   int64  \n",
      " 2   hospital_id                  2821 non-null   int64  \n",
      " 3   age                          2821 non-null   float64\n",
      " 4   bmi                          2320 non-null   float64\n",
      " 5   elective_surgery             2821 non-null   int64  \n",
      " 6   ethnicity                    2821 non-null   object \n",
      " 7   gender                       2821 non-null   object \n",
      " 8   height                       2821 non-null   float64\n",
      " 9   hospital_admit_source        2563 non-null   object \n",
      " 10  icu_admit_source             2814 non-null   object \n",
      " 11  icu_id                       2821 non-null   int64  \n",
      " 12  icu_stay_type                2821 non-null   object \n",
      " 13  icu_type                     2821 non-null   object \n",
      " 14  pre_icu_los_days             2821 non-null   float64\n",
      " 15  readmission_status           2821 non-null   int64  \n",
      " 16  weight                       2821 non-null   float64\n",
      " 17  albumin_apache               1000 non-null   float64\n",
      " 18  apache_2_diagnosis           2768 non-null   float64\n",
      " 19  apache_3j_diagnosis          2806 non-null   float64\n",
      " 20  apache_post_operative        2821 non-null   int64  \n",
      " 21  arf_apache                   2821 non-null   int64  \n",
      " 22  bilirubin_apache             965 non-null    float64\n",
      " 23  bun_apache                   2096 non-null   float64\n",
      " 24  creatinine_apache            2124 non-null   float64\n",
      " 25  fio2_apache                  826 non-null    float64\n",
      " 26  gcs_eyes_apache              2799 non-null   float64\n",
      " 27  gcs_motor_apache             2799 non-null   float64\n",
      " 28  gcs_unable_apache            2800 non-null   float64\n",
      " 29  gcs_verbal_apache            2799 non-null   float64\n",
      " 30  glucose_apache               2510 non-null   float64\n",
      " 31  heart_rate_apache            2820 non-null   float64\n",
      " 32  hematocrit_apache            2246 non-null   float64\n",
      " 33  intubated_apache             2821 non-null   int64  \n",
      " 34  map_apache                   2818 non-null   float64\n",
      " 35  paco2_apache                 826 non-null    float64\n",
      " 36  paco2_for_ph_apache          826 non-null    float64\n",
      " 37  pao2_apache                  826 non-null    float64\n",
      " 38  ph_apache                    826 non-null    float64\n",
      " 39  resprate_apache              2812 non-null   float64\n",
      " 40  sodium_apache                2105 non-null   float64\n",
      " 41  temp_apache                  2792 non-null   float64\n",
      " 42  urineoutput_apache           433 non-null    float64\n",
      " 43  ventilated_apache            2821 non-null   int64  \n",
      " 44  wbc_apache                   2207 non-null   float64\n",
      " 45  aids                         2821 non-null   int64  \n",
      " 46  cirrhosis                    2821 non-null   int64  \n",
      " 47  hepatic_failure              2821 non-null   int64  \n",
      " 48  immunosuppression            2821 non-null   int64  \n",
      " 49  leukemia                     2821 non-null   int64  \n",
      " 50  lymphoma                     2821 non-null   int64  \n",
      " 51  solid_tumor_with_metastasis  2821 non-null   int64  \n",
      " 52  diabetes_mellitus            2821 non-null   int64  \n",
      " 53  age_2                        2821 non-null   float64\n",
      " 54  age_3                        2821 non-null   float64\n",
      " 55  height_2                     2821 non-null   float64\n",
      " 56  height_3                     2821 non-null   float64\n",
      " 57  age_height                   2821 non-null   float64\n",
      " 58  height_age                   2821 non-null   float64\n",
      " 59  prob1                        2821 non-null   float64\n",
      "dtypes: float64(36), int64(18), object(6)\n",
      "memory usage: 1.3+ MB\n"
     ]
    }
   ],
   "source": [
    "test.info()"
   ]
  },
  {
   "cell_type": "code",
   "execution_count": null,
   "id": "e7940cb3",
   "metadata": {},
   "outputs": [],
   "source": []
  },
  {
   "cell_type": "code",
   "execution_count": 16,
   "id": "e3534dfa",
   "metadata": {},
   "outputs": [
    {
     "name": "stdout",
     "output_type": "stream",
     "text": [
      "0.6658406407611188\n"
     ]
    }
   ],
   "source": [
    "#Calculate AOC\n",
    "from sklearn.metrics import roc_auc_score\n",
    "score=roc_auc_score(test['diabetes_mellitus'],test['prob1'])\n",
    "print(score)"
   ]
  }
 ],
 "metadata": {
  "kernelspec": {
   "display_name": "Python 3",
   "language": "python",
   "name": "python3"
  },
  "language_info": {
   "codemirror_mode": {
    "name": "ipython",
    "version": 3
   },
   "file_extension": ".py",
   "mimetype": "text/x-python",
   "name": "python",
   "nbconvert_exporter": "python",
   "pygments_lexer": "ipython3",
   "version": "3.8.8"
  }
 },
 "nbformat": 4,
 "nbformat_minor": 5
}
